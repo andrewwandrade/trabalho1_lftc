{
 "cells": [
  {
   "cell_type": "code",
   "execution_count": 1,
   "id": "443a0912",
   "metadata": {},
   "outputs": [],
   "source": [
    "import numpy as np"
   ]
  },
  {
   "cell_type": "code",
   "execution_count": null,
   "id": "f7841ab2",
   "metadata": {},
   "outputs": [],
   "source": [
    "def tipo1(coluna1, coluna2):\n",
    "    for i in range(len(coluna1)):\n",
    "        if len(coluna1[i]) > len(coluna2[i]):\n",
    "            if coluna2[i] == 'E':\n",
    "                for j in range(len(coluna2)):\n",
    "                    if coluna1[i] not in coluna1[j] and i != j:\n",
    "                        return True\n",
    "            return False\n",
    "    return True\n",
    "\n",
    "def tipo2(coluna1, coluna2):\n",
    "    for i in range(len(coluna1)):\n",
    "        for j in range(len(coluna1[i])):\n",
    "            if coluna1[i][j].islower():\n",
    "                return False\n",
    "    return True\n",
    "\n",
    "def tipo3(coluna1,coluna2):\n",
    "    for i in range(len(coluna1)):\n",
    "        if len(coluna1[i]) > 2:\n",
    "            return False\n",
    "        if len(coluna2[i]) > 2:\n",
    "            return False\n",
    "        if len(coluna2[i]) == 2:\n",
    "            if coluna2[i][1].islower():\n",
    "                return False\n",
    "#fazer ao contrario e colocar um not, muito mais fácil\n",
    "            \n",
    "        \n",
    "\n",
    "\n",
    "def tipo_gramatica(coluna1, coluna2):\n",
    "\n",
    "    tipo_gramatica = 0\n",
    "    if tipo1(coluna1, coluna2)==True:\n",
    "        tipo_gramatica = 1\n",
    "    if tipo2(coluna1, coluna2)==True:\n",
    "        tipo_gramatica = 2\n",
    "    if tipo3(coluna1, coluna2)==True:\n",
    "        tipo_gramatica = 3\n",
    "    return tipo_gramatica\n",
    "     "
   ]
  }
 ],
 "metadata": {
  "kernelspec": {
   "display_name": "Python 3",
   "language": "python",
   "name": "python3"
  },
  "language_info": {
   "codemirror_mode": {
    "name": "ipython",
    "version": 3
   },
   "file_extension": ".py",
   "mimetype": "text/x-python",
   "name": "python",
   "nbconvert_exporter": "python",
   "pygments_lexer": "ipython3",
   "version": "3.13.2"
  }
 },
 "nbformat": 4,
 "nbformat_minor": 5
}
